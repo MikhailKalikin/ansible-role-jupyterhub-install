{
 "cells": [
  {
   "cell_type": "markdown",
   "id": "ba7d2643-c639-4efc-a7b7-38312c00f074",
   "metadata": {},
   "source": [
    "# Автоматическое управление временными пользователями"
   ]
  },
  {
   "cell_type": "markdown",
   "id": "91ab6ae0-a163-4f22-8db0-12e607a8e607",
   "metadata": {},
   "source": [
    "#### Скрипт для остановки сессии и удаления пользователя по заданным тайм аутам (время неактивной работы пользователя, время активной работы сеанса). Останавливает сессии и удаляет пользователей с обычными правами (не администраторов)"
   ]
  },
  {
   "cell_type": "markdown",
   "id": "5aea6755-1e41-4fb7-a7c7-f5429dbc036a",
   "metadata": {},
   "source": [
    "#### <font color=\"Brown\">!!! Перед запуском основных функций, запустить функции обертки и консольные вызовы</font>"
   ]
  },
  {
   "cell_type": "markdown",
   "id": "5134c8b2-4e27-4208-9aee-580dab75d8c6",
   "metadata": {},
   "source": [
    "### Текущие значения"
   ]
  },
  {
   "cell_type": "code",
   "execution_count": 3,
   "id": "26af4f07-af53-4ccd-8d99-a762178ea936",
   "metadata": {},
   "outputs": [
    {
     "name": "stdout",
     "output_type": "stream",
     "text": [
      "Время неактивной работы пользователя 100\n",
      "Время длительности сеанса 100\n"
     ]
    }
   ],
   "source": [
    "time_out_user, time_out_sessions = get_time_outs()\n",
    "print(f\"Время неактивной работы пользователя {time_out_user}\")\n",
    "print(f\"Время длительности сеанса {time_out_sessions}\")"
   ]
  },
  {
   "cell_type": "markdown",
   "id": "18b5445e-9338-4ff3-9b39-1b59eb00d574",
   "metadata": {},
   "source": [
    "### Установка значений"
   ]
  },
  {
   "cell_type": "code",
   "execution_count": null,
   "id": "b98cb126-200a-45f1-9ffe-225f4640c739",
   "metadata": {},
   "outputs": [
    {
     "name": "stdout",
     "output_type": "stream",
     "text": [
      "Введите время неактивной работы пользователя, после которого он будет удален (сек): 600\n"
     ]
    }
   ],
   "source": [
    "new_time_out_user = int(input('Введите время неактивной работы пользователя, после которого он будет удален (сек):'))\n",
    "new_time_out_sessions = int(input('Введите время длительности сеанса, после которого сеанс принудительно завершится (сек):'))\n",
    "\n",
    "config = {\"time_out_user\": new_time_out_user, \"time_out_sessions\": new_time_out_sessions}\n",
    "save_config(config)"
   ]
  },
  {
   "cell_type": "markdown",
   "id": "30fe2237-b0b4-499d-b8ee-7261554b79c6",
   "metadata": {},
   "source": [
    "### Перезапуск скрипта"
   ]
  },
  {
   "cell_type": "code",
   "execution_count": 8,
   "id": "d317f348-444a-43b0-9a5f-14792b5baaa6",
   "metadata": {},
   "outputs": [],
   "source": [
    "restart()"
   ]
  },
  {
   "cell_type": "markdown",
   "id": "02eaa9d8-7ae5-494e-a842-c3079c12e3f5",
   "metadata": {},
   "source": [
    "### Запуск скрипта"
   ]
  },
  {
   "cell_type": "code",
   "execution_count": 9,
   "id": "46fa1b6a-771e-4b10-835c-07b2a3903836",
   "metadata": {},
   "outputs": [],
   "source": [
    "start()"
   ]
  },
  {
   "cell_type": "markdown",
   "id": "98e51da1-63c4-4db1-a1bb-4166d426cd90",
   "metadata": {},
   "source": [
    "### Остановка скрипта"
   ]
  },
  {
   "cell_type": "code",
   "execution_count": 5,
   "id": "15347a33-08a2-4cdd-9a8e-ad6bdc16c44b",
   "metadata": {},
   "outputs": [],
   "source": [
    "stop()"
   ]
  },
  {
   "cell_type": "markdown",
   "id": "e39faf40-5887-4016-8581-1a24db14f195",
   "metadata": {},
   "source": [
    "### Посмотреть статус работы скрипта"
   ]
  },
  {
   "cell_type": "code",
   "execution_count": 10,
   "id": "10a4a2a4-a6ef-47cd-938f-08a515b9ca0e",
   "metadata": {},
   "outputs": [
    {
     "name": "stdout",
     "output_type": "stream",
     "text": [
      "● delete-users.service - Delete users\n",
      "     Loaded: loaded (/etc/systemd/system/delete-users.service; enabled; preset: enabled)\n",
      "     Active: active (running) since Fri 2023-12-22 21:26:19 +04; 4min 16s ago\n",
      "   Main PID: 3183 (python3)\n",
      "      Tasks: 1 (limit: 8685)\n",
      "     Memory: 15.2M\n",
      "        CPU: 130ms\n",
      "     CGroup: /system.slice/delete-users.service\n",
      "             └─3183 /usr/bin/python3 /home/godji/tljh/delete_users.py\n",
      "\n",
      "дек 22 21:26:19 vivobook systemd[1]: Started delete-users.service - Delete users.\n",
      "-----------------\n",
      "● delete-sessions.service - Delete sessions\n",
      "     Loaded: loaded (/etc/systemd/system/delete-sessions.service; enabled; preset: enabled)\n",
      "     Active: active (running) since Fri 2023-12-22 21:26:20 +04; 4min 15s ago\n",
      "   Main PID: 3219 (python3)\n",
      "      Tasks: 1 (limit: 8685)\n",
      "     Memory: 16.6M\n",
      "        CPU: 978ms\n",
      "     CGroup: /system.slice/delete-sessions.service\n",
      "             └─3219 /usr/bin/python3 /home/godji/tljh/delete_sessions.py\n",
      "\n",
      "дек 22 21:26:20 vivobook systemd[1]: Started delete-sessions.service - Delete sessions.\n"
     ]
    }
   ],
   "source": [
    "print_status()"
   ]
  },
  {
   "cell_type": "markdown",
   "id": "f586af9e-fa6b-419a-9610-a1ba51e1a2f2",
   "metadata": {},
   "source": [
    "### Функции обертки"
   ]
  },
  {
   "cell_type": "code",
   "execution_count": 1,
   "id": "428f2130-4716-4f27-8130-5bf624d95e60",
   "metadata": {},
   "outputs": [],
   "source": [
    "import json\n",
    "import os\n",
    "file_path = '/opt/tljh/config.json'\n",
    "\n",
    "def restart():\n",
    "    daemon_reload()\n",
    "    # user\n",
    "    stop_delete_users()\n",
    "    enable_delete_users()\n",
    "    start_delete_users()\n",
    "    #session\n",
    "    stop_delete_sessions()\n",
    "    enable_delete_sessions()\n",
    "    start_delete_sessions()\n",
    "    \n",
    "def start():\n",
    "    start_delete_users()\n",
    "    start_delete_sessions()\n",
    "    \n",
    "def stop():\n",
    "    stop_delete_users()\n",
    "    stop_delete_sessions()\n",
    "\n",
    "def print_status():\n",
    "    s = status_delete_users()\n",
    "    print('\\n'.join(s))\n",
    "    print('-----------------')\n",
    "    s = status_delete_sessions()\n",
    "    print('\\n'.join(s))\n",
    "\n",
    "def get_time_outs():\n",
    "    config = load_config()\n",
    "    if config is None:\n",
    "        # Создаем новый конфиг, если файл не найден\n",
    "        config = {\"time_out_user\": 600, \"time_out_sessions\": 600}\n",
    "        save_config(config)\n",
    "    time_out_user = config[\"time_out_user\"]\n",
    "    time_out_sessions = config[\"time_out_sessions\"]\n",
    "    return time_out_user, time_out_sessions\n",
    "\n",
    "def load_config():\n",
    "    try:\n",
    "        file_descriptor = os.open(file_path, os.O_RDONLY)\n",
    "        with os.fdopen(file_descriptor, 'r') as file:\n",
    "            config = json.load(file)\n",
    "        return config\n",
    "    except FileNotFoundError:\n",
    "        print(f\"Файл конфигурации {file_path} не найден.\")\n",
    "        return None\n",
    "\n",
    "def save_config(config):\n",
    "    file_descriptor = os.open(file_path, os.O_WRONLY | os.O_CREAT | os.O_TRUNC, 0o666)\n",
    "    with os.fdopen(file_descriptor, 'w') as file:\n",
    "        json.dump(config, file, indent=2)"
   ]
  },
  {
   "cell_type": "markdown",
   "id": "9a8d0fad-7c3d-49d4-83e0-bcfc64d1fe5b",
   "metadata": {},
   "source": [
    "### Консольные вызовы"
   ]
  },
  {
   "cell_type": "code",
   "execution_count": 2,
   "id": "28486ba2-67a2-4cf4-9bbc-8e3082faf4c7",
   "metadata": {},
   "outputs": [],
   "source": [
    "def daemon_reload():\n",
    "    !sudo systemctl daemon-reload\n",
    "    \n",
    "def enable_delete_users():\n",
    "    !sudo systemctl enable delete-users.service\n",
    "\n",
    "def start_delete_users():\n",
    "    !sudo systemctl start delete-users.service\n",
    "\n",
    "def stop_delete_users():\n",
    "    !sudo systemctl stop delete-users.service\n",
    "\n",
    "def status_delete_users():\n",
    "    s = !sudo systemctl status delete-users.service\n",
    "    return s\n",
    "\n",
    "\n",
    "def enable_delete_sessions():\n",
    "    !sudo systemctl enable delete-sessions.service\n",
    "\n",
    "def start_delete_sessions():\n",
    "    !sudo systemctl start delete-sessions.service\n",
    "\n",
    "def stop_delete_sessions():\n",
    "    !sudo systemctl stop delete-sessions.service\n",
    "\n",
    "def status_delete_sessions():\n",
    "    s = !sudo systemctl status delete-sessions.service\n",
    "    return s\n",
    "\n",
    "def get_file():\n",
    "    !sudo ln /opt/history_sessions.log /opt/history_sessions.log"
   ]
  },
  {
   "cell_type": "code",
   "execution_count": null,
   "id": "22c3d471-66b5-46c0-9b04-acaede7808fe",
   "metadata": {},
   "outputs": [],
   "source": []
  }
 ],
 "metadata": {
  "kernelspec": {
   "display_name": "Python 3 (ipykernel)",
   "language": "python",
   "name": "python3"
  },
  "language_info": {
   "codemirror_mode": {
    "name": "ipython",
    "version": 3
   },
   "file_extension": ".py",
   "mimetype": "text/x-python",
   "name": "python",
   "nbconvert_exporter": "python",
   "pygments_lexer": "ipython3",
   "version": "3.10.10"
  }
 },
 "nbformat": 4,
 "nbformat_minor": 5
}
